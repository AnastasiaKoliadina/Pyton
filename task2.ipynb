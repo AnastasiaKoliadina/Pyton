{
 "cells": [
  {
   "cell_type": "markdown",
   "metadata": {},
   "source": [
    "#### Задача 2.\n",
    "Напишите функцию, которая из двух списков, делает один словарь, где элементы из первого списка - ключи, а элементы из второго списка - значения\n",
    "\n",
    "keys = ['One', 'Two', 'Three']\n",
    "\n",
    "values = [1,2,3]\n",
    "\n",
    "Используйте аннотирование типов\n",
    "- Используйте цикл for\n",
    "- Используйте dict comprehensions\n",
    "Усложнение [*] Используйте функцию zip. Проверьте на списках разной длины\n",
    "Примеры/Тесты:\n",
    "<function_name>(keys, values) -> {'One': 1, 'Two': 2, 'Three': 3}"
   ]
  },
  {
   "cell_type": "code",
   "execution_count": 5,
   "metadata": {},
   "outputs": [
    {
     "data": {
      "text/plain": [
       "{'One': 1, 'Two': 2, 'Three': 3}"
      ]
     },
     "execution_count": 5,
     "metadata": {},
     "output_type": "execute_result"
    }
   ],
   "source": [
    "def dict_new(lst_keys: list,lst_values: list)-> dict:\n",
    "    dict_new = dict()\n",
    "    for i in range(len(lst_keys)):\n",
    "        dict_new[lst_keys[i]]=lst_values[i]\n",
    "    return dict_new\n",
    "dict_new(['One', 'Two', 'Three'],[1,2,3])\n"
   ]
  },
  {
   "cell_type": "markdown",
   "metadata": {},
   "source": [
    "Усложнение [*] Используйте функцию zip. Проверьте на списках разной длины\n",
    "\n",
    "Примеры/Тесты:\n",
    "\n",
    "<function_name>(keys, values) -> {'One': 1, 'Two': 2, 'Three': 3}"
   ]
  },
  {
   "cell_type": "code",
   "execution_count": 2,
   "metadata": {},
   "outputs": [
    {
     "name": "stdout",
     "output_type": "stream",
     "text": [
      "('One', 1)\n",
      "('Two', 2)\n",
      "('Three', 3)\n"
     ]
    }
   ],
   "source": [
    "keys = ['One', 'Two', 'Three']\n",
    "values = [1,2,3]\n",
    "new = zip(keys,values)\n",
    "for i in new:\n",
    "    print(i)"
   ]
  },
  {
   "cell_type": "code",
   "execution_count": 3,
   "metadata": {},
   "outputs": [
    {
     "name": "stdout",
     "output_type": "stream",
     "text": [
      "{'One': 1, 'Two': 2, 'Three': 3}\n"
     ]
    }
   ],
   "source": [
    "def dict_from_lists(keys:list, values:list) -> dict:\n",
    "    dict_new = dict()\n",
    "    for k,v in zip(keys,values):\n",
    "        dict_new[k]=v\n",
    "    return dict_new\n",
    "print(dict_from_lists(keys,values))"
   ]
  },
  {
   "cell_type": "markdown",
   "metadata": {},
   "source": [
    "##### Задача 3\n",
    " Напишите функцию-генератор. Генератор на вход принимает список с данными о клиенте(смотри ниже пример)\n",
    "\n",
    "Внутри генератора реализуйте обход по списку с данными\n",
    "\n",
    "На каждой итерации генератор будет возвращать кортеж из двух элементов:\n",
    "\n",
    "- данные по конкретному клиенту,\n",
    "\n",
    "- значение (float), которое показывает, сколько секунд прошло с предыдущей итерации.\n",
    "Эти секунды, должны показывать время не с начала запуска генератора, а именно то время, которое прошло с предыдущей итерации.\n",
    "\n",
    "А значит время на первой итерации должно равняться 0.\n",
    "\n",
    "Используйте функцию time из модуля time для подсчета времени.\n",
    "\n",
    "Чтобы проверить работу таймера, запустите проход по генератору в цикле с time.sleep(2)\n",
    "\n",
    "ПРимер данных\n",
    "\n",
    "lst_data = [\n",
    "\n",
    "{'name': 'John', 'age': 25, 'salary': 5000, 'city': 'Moscow'},\n",
    "\n",
    "{'name': 'Mike', 'age': 31, 'salary': 7000, 'city': 'St-Petersburg'},\n",
    "\n",
    "{'name': 'Ann', 'age': 35, 'salary': 15000, 'city': 'Moscow'},\n",
    "\n",
    "{'name': 'Mak', 'age': 23, 'salary': 6000, 'city': 'Kazan'},\n",
    "\n",
    "Примеры/Тесты:\n",
    "\n",
    "({'name': 'John', 'age': 25, 'salary': 5000, 'city': 'Moscow'}, 0.0)\n",
    "\n",
    "({'name': 'Mike', 'age': 31, 'salary': 7000, 'city': 'St-Petersburg'}, 2.0001144409179688)\n",
    "\n",
    "({'name': 'Ann', 'age': 35, 'salary': 15000, 'city': 'Moscow'}, 2.0001144409179688)\n",
    "\n",
    "({'name': 'Mak', 'age': 23, 'salary': 6000, 'city': 'Kazan'}, 2.0001144409179688)"
   ]
  },
  {
   "cell_type": "code",
   "execution_count": 4,
   "metadata": {},
   "outputs": [],
   "source": [
    "lst_data = [\n",
    "\n",
    "{'name': 'John', 'age': 25, 'salary': 5000, 'city': 'Moscow'},\n",
    "\n",
    "{'name': 'Mike', 'age': 31, 'salary': 7000, 'city': 'St-Petersburg'},\n",
    "\n",
    "{'name': 'Ann', 'age': 35, 'salary': 15000, 'city': 'Moscow'},\n",
    "\n",
    "{'name': 'Mak', 'age': 23, 'salary': 6000, 'city': 'Kazan'},]\n",
    "\n",
    "def genClients(ClientsDate:list):\n",
    "    for client in ClientsDate:\n",
    "        yield client"
   ]
  },
  {
   "cell_type": "code",
   "execution_count": 5,
   "metadata": {},
   "outputs": [
    {
     "name": "stdout",
     "output_type": "stream",
     "text": [
      "<generator object genClients at 0x00000104EEF79490>\n"
     ]
    }
   ],
   "source": [
    "gen1 = genClients(lst_data)\n",
    "print(gen1)"
   ]
  },
  {
   "cell_type": "code",
   "execution_count": 6,
   "metadata": {},
   "outputs": [
    {
     "name": "stdout",
     "output_type": "stream",
     "text": [
      "{'name': 'John', 'age': 25, 'salary': 5000, 'city': 'Moscow'}\n",
      "{'name': 'Mike', 'age': 31, 'salary': 7000, 'city': 'St-Petersburg'}\n",
      "{'name': 'Ann', 'age': 35, 'salary': 15000, 'city': 'Moscow'}\n",
      "{'name': 'Mak', 'age': 23, 'salary': 6000, 'city': 'Kazan'}\n"
     ]
    }
   ],
   "source": [
    "for elem in gen1:\n",
    "    print(elem)"
   ]
  }
 ],
 "metadata": {
  "kernelspec": {
   "display_name": "Python 3",
   "language": "python",
   "name": "python3"
  },
  "language_info": {
   "codemirror_mode": {
    "name": "ipython",
    "version": 3
   },
   "file_extension": ".py",
   "mimetype": "text/x-python",
   "name": "python",
   "nbconvert_exporter": "python",
   "pygments_lexer": "ipython3",
   "version": "3.11.4"
  },
  "orig_nbformat": 4
 },
 "nbformat": 4,
 "nbformat_minor": 2
}
